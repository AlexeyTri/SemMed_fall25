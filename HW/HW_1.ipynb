{
  "nbformat": 4,
  "nbformat_minor": 0,
  "metadata": {
    "colab": {
      "provenance": [],
      "authorship_tag": "ABX9TyN1Rw8qtS19dWbVuWmXrA8p",
      "include_colab_link": true
    },
    "kernelspec": {
      "name": "python3",
      "display_name": "Python 3"
    },
    "language_info": {
      "name": "python"
    }
  },
  "cells": [
    {
      "cell_type": "markdown",
      "metadata": {
        "id": "view-in-github",
        "colab_type": "text"
      },
      "source": [
        "<a href=\"https://colab.research.google.com/github/AlexeyTri/SemMed_fall25/blob/main/HW/HW_1.ipynb\" target=\"_parent\"><img src=\"https://colab.research.google.com/assets/colab-badge.svg\" alt=\"Open In Colab\"/></a>"
      ]
    },
    {
      "cell_type": "code",
      "execution_count": null,
      "metadata": {
        "id": "tiRJqu5E5Z1g"
      },
      "outputs": [],
      "source": [
        "import pandas as pd\n",
        "import numpy as np\n",
        "import matplotlib.pyplot as plt\n",
        "import random\n",
        "import seaborn as sns\n",
        "\n",
        "random.seed(42)\n",
        "np.random.seed(42)"
      ]
    },
    {
      "cell_type": "markdown",
      "source": [
        "# Обработка признаков"
      ],
      "metadata": {
        "id": "sZHNrjnsc9kF"
      }
    },
    {
      "cell_type": "code",
      "source": [
        "df_train = pd.read_csv('https://raw.githubusercontent.com/Murcha1990/MLDS_ML_2022/main/Hometasks/HT1/cars_train.csv')\n",
        "df_test = pd.read_csv('https://raw.githubusercontent.com/Murcha1990/MLDS_ML_2022/main/Hometasks/HT1/cars_test.csv')\n",
        "\n",
        "print(\"Train data shape:\", df_train.shape)\n",
        "print(\"Test data shape: \", df_test.shape)"
      ],
      "metadata": {
        "colab": {
          "base_uri": "https://localhost:8080/"
        },
        "id": "HOnEMgtC5iRK",
        "outputId": "f03f4ee2-51c5-4b24-c638-df538e5465e8"
      },
      "execution_count": null,
      "outputs": [
        {
          "output_type": "stream",
          "name": "stdout",
          "text": [
            "Train data shape: (6999, 13)\n",
            "Test data shape:  (1000, 13)\n"
          ]
        }
      ]
    },
    {
      "cell_type": "markdown",
      "source": [
        "(0.5 балла) Отобразите 10 случайных строк тренировочного датасета"
      ],
      "metadata": {
        "id": "LEXQDokfdHce"
      }
    },
    {
      "cell_type": "code",
      "source": [
        "# your code here"
      ],
      "metadata": {
        "id": "mE1zQ_r7dniE"
      },
      "execution_count": null,
      "outputs": []
    },
    {
      "cell_type": "markdown",
      "source": [
        "(0.5 балла) Отобразите 5 первых и 5 последних строк тренировочоного датасета"
      ],
      "metadata": {
        "id": "R5OJ9bLidQH9"
      }
    },
    {
      "cell_type": "code",
      "source": [
        "# your code here"
      ],
      "metadata": {
        "id": "DPg5Cbc5dpoQ"
      },
      "execution_count": null,
      "outputs": []
    },
    {
      "cell_type": "markdown",
      "source": [
        "(0.5 балла) Поситайте основные статистики по числовым и категориальным признакам отдельно"
      ],
      "metadata": {
        "id": "OMbxJJrDdXqw"
      }
    },
    {
      "cell_type": "code",
      "source": [
        "# your code here"
      ],
      "metadata": {
        "id": "4xYd_bNEdq9D"
      },
      "execution_count": null,
      "outputs": []
    },
    {
      "cell_type": "markdown",
      "source": [
        "(0.5 балла) Посмотрите, есть ли в датасете поропуски"
      ],
      "metadata": {
        "id": "MFw3ACHiduXY"
      }
    },
    {
      "cell_type": "code",
      "source": [
        "# your code here"
      ],
      "metadata": {
        "id": "Jhx2OPegd7tH"
      },
      "execution_count": null,
      "outputs": []
    },
    {
      "cell_type": "markdown",
      "source": [
        "(1 балл) Посмторите, есть ли в тренировочной датасете объекты в одинаковыми значениями признаков (перед анализом столбец целевой переменной необходимо удалить 'selling_price'). Отобразите эти объекты. Удалите повторяющиеся строки."
      ],
      "metadata": {
        "id": "uN2qzvACdlwg"
      }
    },
    {
      "cell_type": "code",
      "source": [
        "# your code here"
      ],
      "metadata": {
        "id": "2jBEGINEeeN4"
      },
      "execution_count": null,
      "outputs": []
    },
    {
      "cell_type": "code",
      "source": [
        "assert df_train.shape == (5840, 13)"
      ],
      "metadata": {
        "id": "9y87TLYaegXE"
      },
      "execution_count": null,
      "outputs": []
    },
    {
      "cell_type": "markdown",
      "source": [
        "(0.1) Обновит индексы по строкам, чтобы они шли от 0без пропусков"
      ],
      "metadata": {
        "id": "hPbSb7k9ejW7"
      }
    },
    {
      "cell_type": "code",
      "source": [
        "# your code here"
      ],
      "metadata": {
        "id": "_FHRdcmpeuat"
      },
      "execution_count": null,
      "outputs": []
    },
    {
      "cell_type": "markdown",
      "source": [
        "(2 балла)\n",
        "\n",
        "*   убрать единицы измерения для признаков mileage, engine, max_power\n",
        "*   кастануть эти столбцы столбцы к float\n",
        "*   удалить столбец torque\n",
        "\n"
      ],
      "metadata": {
        "id": "mAlOEvtjevzS"
      }
    },
    {
      "cell_type": "code",
      "source": [
        "# your code here"
      ],
      "metadata": {
        "id": "SOWDmDSxfBEn"
      },
      "execution_count": null,
      "outputs": []
    },
    {
      "cell_type": "markdown",
      "source": [
        "(0.5 балла) Заполните пропуски в столбцах с вещественными признаками median"
      ],
      "metadata": {
        "id": "85aG8W7FnfxG"
      }
    },
    {
      "cell_type": "code",
      "source": [
        "# your code here"
      ],
      "metadata": {
        "id": "b6sdpMTCn5Nh"
      },
      "execution_count": null,
      "outputs": []
    },
    {
      "cell_type": "markdown",
      "source": [
        "# Обучение моделей\n"
      ],
      "metadata": {
        "id": "PeuM2YmliUiV"
      }
    },
    {
      "cell_type": "markdown",
      "source": [
        "## Обучение модели только на вещественных признаках"
      ],
      "metadata": {
        "id": "WTbiGJQaiYHP"
      }
    },
    {
      "cell_type": "markdown",
      "source": [
        "(0.4 балла) В переменные y_train и y_test запишите значения целевых переменных ('selling_price'). Столбцы selling_price из датафреймов необходимо удалить. Категориальные столбцы тоже."
      ],
      "metadata": {
        "id": "tBtMSUoQigbd"
      }
    },
    {
      "cell_type": "code",
      "source": [
        "y_train = # your code here\n",
        "X_train = # your code here"
      ],
      "metadata": {
        "id": "4vSWWN4HivZA"
      },
      "execution_count": null,
      "outputs": []
    },
    {
      "cell_type": "code",
      "source": [
        "assert X_train.shape == (5840, 5)"
      ],
      "metadata": {
        "id": "5V-_PyXDiyFi"
      },
      "execution_count": null,
      "outputs": []
    },
    {
      "cell_type": "code",
      "source": [
        "y_test = # your code here\n",
        "X_test = # your code here"
      ],
      "metadata": {
        "id": "ZdNzDw-di07T"
      },
      "execution_count": null,
      "outputs": []
    },
    {
      "cell_type": "code",
      "source": [
        "assert X_test.shape == (931, 5)"
      ],
      "metadata": {
        "id": "XLvxxR0Li1EA"
      },
      "execution_count": null,
      "outputs": []
    },
    {
      "cell_type": "markdown",
      "source": [
        "(0.5 балла) Обучите классичкескую линейную регрессию с дефолтными параметрами\n",
        "(0.5 балла) Рассчитайте r2_score, MSE для train и test. Сделайте вывод"
      ],
      "metadata": {
        "id": "musmZrEPlHqB"
      }
    },
    {
      "cell_type": "code",
      "source": [
        "from sklearn.linear_model import LinearRegression\n",
        "from sklearn.metrics import r2_score, mean_squared_error as MSE\n",
        "\n",
        "# your code here"
      ],
      "metadata": {
        "id": "VEx4trBrlgoj"
      },
      "execution_count": null,
      "outputs": []
    },
    {
      "cell_type": "markdown",
      "source": [
        "Запомните правило:\n",
        "\n",
        "Использую линейную модель -- стандартизирую фичи"
      ],
      "metadata": {
        "id": "ZEb2Y6vJsbuX"
      }
    },
    {
      "cell_type": "code",
      "source": [
        "from sklearn import preprocessing\n",
        "normalize = preprocessing.StandardScaler()\n",
        "\n",
        "# your code here"
      ],
      "metadata": {
        "id": "NG2dAptpogjL"
      },
      "execution_count": 1,
      "outputs": []
    },
    {
      "cell_type": "markdown",
      "source": [
        "(0.5 балла) Теперь попробуем Lasso-регрессию. Здесь и дальше обучайте модели на нормализованных признаках"
      ],
      "metadata": {
        "id": "0FJLkhomskNS"
      }
    },
    {
      "cell_type": "code",
      "source": [
        "from sklearn.linear_model import Lasso\n",
        "\n",
        "# your code here"
      ],
      "metadata": {
        "id": "-fGrPEfSsmaY"
      },
      "execution_count": null,
      "outputs": []
    },
    {
      "cell_type": "markdown",
      "source": [
        "(0.5 балла) Перебором по сетке (c 10-ю фолдами) подберите оптимальные параметры для Lasso-регрессии\n",
        "\n",
        "Вам пригодится класс GridSearchCV."
      ],
      "metadata": {
        "id": "a14-m27Rso6j"
      }
    },
    {
      "cell_type": "code",
      "source": [
        "from sklearn.model_selection import GridSearchCV\n",
        "\n",
        "# your code here"
      ],
      "metadata": {
        "id": "xoTwwd2cspjJ"
      },
      "execution_count": null,
      "outputs": []
    },
    {
      "cell_type": "markdown",
      "source": [
        "#  Добавляем категориальные фичи"
      ],
      "metadata": {
        "id": "o81GzaRssz4F"
      }
    },
    {
      "cell_type": "markdown",
      "source": [
        "(0.5 балла) Закодируйте категориальные переменные методом OneHotEncodding"
      ],
      "metadata": {
        "id": "c39cefkNtAFY"
      }
    },
    {
      "cell_type": "code",
      "source": [
        "from sklearn.preprocessing import OneHotEncoder # или можно использовать get_dummies из библиотеки pandas\n",
        "\n",
        "# your code here"
      ],
      "metadata": {
        "id": "_dxtwMd4tL8p"
      },
      "execution_count": null,
      "outputs": []
    },
    {
      "cell_type": "markdown",
      "source": [
        "(2.5 балла) Обучите получившийся объединенный датасет на Ridge. Перебирите параметры при помощи GreadSearchCV, метрику качества укажите r_2, кросс-валидация по 10 фолдам\n",
        "Сделайте вывод% удалось ли увеличить качество модели"
      ],
      "metadata": {
        "id": "tF3P2Jt1tO8U"
      }
    },
    {
      "cell_type": "code",
      "source": [
        "from sklearn.linear_model import Ridge\n",
        "from sklearn.model_selection import GridSearchCV\n",
        "\n",
        "# your code here"
      ],
      "metadata": {
        "id": "HVf9m-Shtbv8"
      },
      "execution_count": null,
      "outputs": []
    }
  ]
}