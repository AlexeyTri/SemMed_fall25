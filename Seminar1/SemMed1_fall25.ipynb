{
  "nbformat": 4,
  "nbformat_minor": 0,
  "metadata": {
    "colab": {
      "provenance": [],
      "mount_file_id": "1vmEY9RTsnpnKUZw3tjF1spilLHHNsbOS",
      "authorship_tag": "ABX9TyM4o2D0e2yGDyX8+PwUPRDy",
      "include_colab_link": true
    },
    "kernelspec": {
      "name": "python3",
      "display_name": "Python 3"
    },
    "language_info": {
      "name": "python"
    }
  },
  "cells": [
    {
      "cell_type": "markdown",
      "metadata": {
        "id": "view-in-github",
        "colab_type": "text"
      },
      "source": [
        "<a href=\"https://colab.research.google.com/github/AlexeyTri/SemMed_fall25/blob/main/Seminar1/SemMed1_fall25.ipynb\" target=\"_parent\"><img src=\"https://colab.research.google.com/assets/colab-badge.svg\" alt=\"Open In Colab\"/></a>"
      ]
    },
    {
      "cell_type": "markdown",
      "source": [
        "# Предобработка данных и функции потерь в линейной регрессии\n",
        "\n",
        "## Данные\n",
        "Для демонстраций загрузим набор данных https://archive.ics.uci.edu/dataset/10/automobile. В данных присутствуют категориальные, целочисленные и вещественнозначные признаки."
      ],
      "metadata": {
        "id": "it4e7gqHz4mk"
      }
    },
    {
      "cell_type": "code",
      "source": [
        "import pandas as pd"
      ],
      "metadata": {
        "id": "0oStqAhz0PZI"
      },
      "execution_count": 1,
      "outputs": []
    },
    {
      "cell_type": "code",
      "source": [
        "X_raw = pd.read_csv(\"https://archive.ics.uci.edu/ml/machine-learning-databases/autos/imports-85.data\", header=None, na_values=[\"?\"])"
      ],
      "metadata": {
        "id": "kvrMR6ajcH_G"
      },
      "execution_count": 2,
      "outputs": []
    },
    {
      "cell_type": "markdown",
      "source": [
        "## Предобработка данных\n",
        "\n",
        "Предобработка данных важна при применении любых методов машинного обучения, а в особенности для линейных моделей. В sklearn предобработку удобно делать с помощью модуля preprocessing или методов библиотеки pandas."
      ],
      "metadata": {
        "id": "Xa4M28Fy0JDM"
      }
    },
    {
      "cell_type": "code",
      "source": [
        "from sklearn import impute"
      ],
      "metadata": {
        "id": "LVrJtsCvhmjP"
      },
      "execution_count": 9,
      "outputs": []
    },
    {
      "cell_type": "markdown",
      "source": [
        "## Заполнение пропусков\n",
        "В матрице объекты-признаки могут быть пропущенные значения, и это вызовет исключение при попытке передать такую матрицу в функцию обучения модели или даже предобработки. Если пропусков немного, можно удалить объекты с пропусками из обучающей выборки. Заполнить пропуски можно разными способами:\n",
        "\n",
        "заполнить средними (mean, median);\n",
        "предсказывать пропущенные значения по непропущенным.\n",
        "Последний вариант сложный и применяется редко. Для заполнения константами можно использовать метод датафрейма fillna, для замены средними - класс preprocessing.Imputer."
      ],
      "metadata": {
        "id": "Z_f02wXQ0RMA"
      }
    },
    {
      "cell_type": "code",
      "source": [],
      "metadata": {
        "id": "48f1ZLs7h5lG"
      },
      "execution_count": 10,
      "outputs": []
    },
    {
      "cell_type": "markdown",
      "source": [
        "## Преобразование нечисловых признаков\n",
        "\n",
        "Практически все методы машинного обучения требуют, чтобы на вход функции обучения подавалась вещественная матрица. В процессе обучения используются свойства вещественных чисел, в частности, возможность сравнения и применения арифметических операций. Поэтому, даже если формально в матрице объекты-признаки записаны числовые значения, нужно всегда анализировать, можно ли относиться к ним как к числам.\n",
        "\n",
        "Пример: некоторые признаки могут задаваться целочисленными хешами или id (например, id пользователя соц. сети), однако нельзя сложить двух пользователей и получить третьего, исходя из их id (как это может сделать линейная модель).\n",
        "\n",
        "Это пример категориального признака, принимающего значения из неупорядоченного конечного множества\n",
        ". К таким признакам обычно применяют one-hot encoding (вместо одного признака создают\n",
        " бинарных признаков - по одному на каждое возможное значение исходного признака). В sklearn это можно сделать с помощью классов LabelEncoder + OneHotEncoding, но проще использовать функцию pd.get_dummies.\n",
        "\n",
        "Следует заметить, что в новой матрице будет очень много нулевых значений. Чтобы не хранить их в памяти, можно задать параметр OneHotEncoder(sparse = True) или .get_dummies(sparse=True), и метод вернет разреженную матрицу, в которой хранятся только ненулевые значения. Выполнение некоторых операций с такой матрицей может быть неэффективным, однако большинство методов sklearn умеют работать с разреженными матрицами.\n",
        "\n",
        "Вопрос: какая проблема возникнет при применении такого способа кодирования для обучения линейной регрессии?\n",
        "\n",
        "Необходимо удалить один из столбцов, созданных для каждого признака. Для этого в get_dummies надо поставить drop_first=True."
      ],
      "metadata": {
        "id": "XetWZ1iH0co-"
      }
    },
    {
      "cell_type": "code",
      "source": [],
      "metadata": {
        "id": "VjM25IjunJhD"
      },
      "execution_count": 33,
      "outputs": []
    },
    {
      "cell_type": "markdown",
      "source": [
        "## Масштабирование признаков\n",
        "При начале работы с данными всегда рекомендуется приводить все признаки к одному масштабу. Это важно по нескольким причинам:\n",
        "\n",
        "ускорение обучения модели (пояснение на лекции);\n",
        "улучшение численной устойчивости при работе с матрицей объекты-признаки (рядом с нулем чисел с плавающей точкой больше, чем с области больших чисел)\n",
        "для линейных моделей: интерпретация весов при признаках как меры их значимости.\n",
        "Первый популярный способ масштабирования - нормализация: вычитание среднего из каждого признака и деление на стандартное отклонение (StandardScaler в sklearn). Второй популярный способ: вычитание минимума из каждого признака, а затем деление на разницу максимального и минимального значения (MinMaxScaler в sklearn)."
      ],
      "metadata": {
        "id": "wq5p7RU00nhd"
      }
    },
    {
      "cell_type": "code",
      "source": [
        "from sklearn import preprocessing\n"
      ],
      "metadata": {
        "id": "T695FbY0nrLC"
      },
      "execution_count": 34,
      "outputs": []
    },
    {
      "cell_type": "markdown",
      "source": [
        "## Обучение модели и оценка качества"
      ],
      "metadata": {
        "id": "H6cv0MjN0yqY"
      }
    },
    {
      "cell_type": "code",
      "source": [
        "from sklearn.model_selection import train_test_split\n",
        "\n"
      ],
      "metadata": {
        "id": "UgMV1bf5q-_m"
      },
      "execution_count": 35,
      "outputs": []
    },
    {
      "cell_type": "code",
      "source": [
        "from sklearn.linear_model import LinearRegression\n",
        "\n"
      ],
      "metadata": {
        "id": "azdd1nbPrTPx"
      },
      "execution_count": 36,
      "outputs": []
    },
    {
      "cell_type": "code",
      "source": [
        "from sklearn.metrics import r2_score\n"
      ],
      "metadata": {
        "id": "A6ZIzJ1Rs8wd"
      },
      "execution_count": 37,
      "outputs": []
    },
    {
      "cell_type": "markdown",
      "source": [
        "## Сильно переобучились.\n",
        "\n",
        "Добавим регуляризацию:\n",
        "\n",
        "L1-регуляризация: Lasso\n",
        "L2-регуляризация: Ridge\n",
        "L1+L2: ElasticNet"
      ],
      "metadata": {
        "id": "zf-qaPxP061u"
      }
    },
    {
      "cell_type": "code",
      "source": [
        "from sklearn.linear_model import Ridge\n"
      ],
      "metadata": {
        "id": "atqY4scdtbGU"
      },
      "execution_count": 38,
      "outputs": []
    },
    {
      "cell_type": "code",
      "source": [
        "from sklearn.linear_model import SGDRegressor\n"
      ],
      "metadata": {
        "id": "rkKYH7CDu8tW"
      },
      "execution_count": 39,
      "outputs": []
    },
    {
      "cell_type": "code",
      "source": [
        "from sklearn.model_selection import GridSearchCV\n"
      ],
      "metadata": {
        "collapsed": true,
        "id": "vgdHNH4ArnO1"
      },
      "execution_count": 40,
      "outputs": []
    }
  ]
}