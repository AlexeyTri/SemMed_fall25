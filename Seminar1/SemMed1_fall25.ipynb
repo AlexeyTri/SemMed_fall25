{
  "nbformat": 4,
  "nbformat_minor": 0,
  "metadata": {
    "colab": {
      "provenance": [],
      "mount_file_id": "1vmEY9RTsnpnKUZw3tjF1spilLHHNsbOS",
      "authorship_tag": "ABX9TyM7Q9HQVR+5295V12Xq3H2W",
      "include_colab_link": true
    },
    "kernelspec": {
      "name": "python3",
      "display_name": "Python 3"
    },
    "language_info": {
      "name": "python"
    }
  },
  "cells": [
    {
      "cell_type": "markdown",
      "metadata": {
        "id": "view-in-github",
        "colab_type": "text"
      },
      "source": [
        "<a href=\"https://colab.research.google.com/github/AlexeyTri/SemMed_fall25/blob/main/Seminar1/SemMed1_fall25.ipynb\" target=\"_parent\"><img src=\"https://colab.research.google.com/assets/colab-badge.svg\" alt=\"Open In Colab\"/></a>"
      ]
    },
    {
      "cell_type": "code",
      "source": [],
      "metadata": {
        "id": "0oStqAhz0PZI"
      },
      "execution_count": null,
      "outputs": []
    }
  ]
}